{
 "cells": [
  {
   "cell_type": "code",
   "execution_count": null,
   "metadata": {},
   "outputs": [],
   "source": [
    "import numpy as np\n",
    "import pandas as pd\n",
    "from ipywidgets import *\n",
    "import matplotlib\n",
    "import matplotlib.pyplot as plt\n",
    "from mpl_toolkits.mplot3d import Axes3D\n",
    "import glob\n",
    "\n",
    "fold = 'out/'"
   ]
  },
  {
   "cell_type": "code",
   "execution_count": null,
   "metadata": {},
   "outputs": [],
   "source": [
    "endFiles = glob.glob(fold+'*neutronend.out')\n",
    "df_end_list = (pd.read_csv(endFile, sep=' ') for endFile in endFiles)\n",
    "df_end = pd.concat(df_end_list, ignore_index=True)\n",
    "df_end['particle'] = df_end['particle'] + 200*df_end['jobnumber']\n",
    "# df_end.head()\n",
    "# df_end.columns"
   ]
  },
  {
   "cell_type": "code",
   "execution_count": null,
   "metadata": {},
   "outputs": [],
   "source": [
    "df_end['vmag'] = (df_end['vxstart']**2+df_end['vystart']**2+df_end['vzstart']**2)**.5\n",
    "\n",
    "fig, ax = plt.subplots()\n",
    "ax.hist(df_end['vmag'],bins=50)\n",
    "plt.show()\n",
    "\n",
    "# print(df_end.vxstart)\n",
    "\n"
   ]
  },
  {
   "cell_type": "code",
   "execution_count": null,
   "metadata": {},
   "outputs": [],
   "source": [
    "df_end_stored = df_end[df_end.stopID==-1]\n",
    "# df_end_stored.head()\n",
    "# df_end_stored.Szstart\n",
    "# print(df_end_stored[['xstart','ystart','zstart']])"
   ]
  },
  {
   "cell_type": "code",
   "execution_count": null,
   "metadata": {},
   "outputs": [],
   "source": [
    "spinFiles = glob.glob(fold+'*neutronspin.out')\n",
    "df_spin_list = (pd.read_csv(spinFile, sep=' ') for spinFile in spinFiles)\n",
    "df_spin = pd.concat(df_spin_list, ignore_index=True)\n",
    "df_spin['particle'] = df_spin['particle'] + 200*df_spin['jobnumber']\n",
    "\n",
    "df_spin['Bmag']=(df_spin.Bx**2+df_spin.By**2+df_spin.Bz**2)**.5\n",
    "# df_spin.head()\n",
    "# df_spin[df_spin.t==0][['Bx','By','Bz']]"
   ]
  },
  {
   "cell_type": "code",
   "execution_count": null,
   "metadata": {},
   "outputs": [],
   "source": [
    "# df_spin_1 = df_spin[df_spin.particle==3]\n",
    "df_spin_1 = df_spin[df_spin.particle.isin(df_end_stored.particle)]\n",
    "polarization = [np.dot(df_spin_1[['Sx','Sy','Sz']].iloc[i],df_spin_1[['Bx','By','Bz']].iloc[i])/np.linalg.norm(df_spin_1[['Bx','By','Bz']].iloc[i]) for i in range(len(df_spin_1))] \n",
    "\n",
    "fig, ax = plt.subplots(2)\n",
    "ax[0].plot(df_spin_1['t'],-df_spin_1['Sz'], 'ko', markersize=2)\n",
    "ax[0].ticklabel_format(style='sci',useOffset=False)\n",
    "ax[1].plot(df_spin_1['t'],df_spin_1['Bz']/df_spin_1['Bmag'],'ko',markersize=2)\n",
    "\n",
    "plt.show()\n"
   ]
  },
  {
   "cell_type": "code",
   "execution_count": null,
   "metadata": {},
   "outputs": [],
   "source": [
    "snapFiles = glob.glob(fold+'*neutronsnapshot.out')\n",
    "df_snap_list = (pd.read_csv(snapFile, sep=' ') for snapFile in snapFiles)\n",
    "df_snap = pd.concat(df_snap_list, ignore_index=True)\n",
    "df_snap['particle'] = df_snap['particle'] + 200*df_snap['jobnumber']\n",
    "\n",
    "# df_snap.columns\n",
    "# df_snap.tail()[['particle','xend','yend','zend','polend','Bend']]"
   ]
  },
  {
   "cell_type": "code",
   "execution_count": null,
   "metadata": {},
   "outputs": [],
   "source": [
    "df_snap = df_snap[df_snap.particle.isin(df_end_stored.particle)]\n",
    "snapTimes = df_snap['tend'].unique()\n",
    "snapPol = np.array([df_snap[df_snap['tend'] == tUni]['Szend'].mean() for tUni in snapTimes])\n",
    "\n",
    "fig, ax = plt.subplots()\n",
    "ax.plot(snapTimes,snapPol)\n",
    "ax.ticklabel_format(style='sci',useOffset=False)\n",
    "plt.show()\n"
   ]
  },
  {
   "cell_type": "code",
   "execution_count": null,
   "metadata": {},
   "outputs": [],
   "source": [
    "fig = plt.figure()\n",
    "ax = fig.add_subplot(111,projection='3d')\n",
    "ax.plot(df_snap['xend'],df_snap['yend'],df_snap['zend'],'bo')\n",
    "ax.set_xlim3d(-.4, 3)\n",
    "ax.set_ylim3d(-1.7,1.7)\n",
    "ax.set_zlim3d(-1.7,1.7)\n",
    "plt.show()"
   ]
  },
  {
   "cell_type": "code",
   "execution_count": null,
   "metadata": {},
   "outputs": [],
   "source": [
    "df_snap_1=df_snap[df_snap['particle']==df_end_stored.iloc[0].particle]\n",
    "\n",
    "fig, ax = plt.subplots()\n",
    "ax.plot(df_snap_1['tend'],df_snap_1['Szend'])\n",
    "ax.ticklabel_format(style='sci',useOffset=False)\n",
    "plt.show()\n"
   ]
  },
  {
   "cell_type": "code",
   "execution_count": null,
   "metadata": {},
   "outputs": [],
   "source": []
  }
 ],
 "metadata": {
  "kernelspec": {
   "display_name": "Python 3",
   "language": "python",
   "name": "python3"
  },
  "language_info": {
   "codemirror_mode": {
    "name": "ipython",
    "version": 3
   },
   "file_extension": ".py",
   "mimetype": "text/x-python",
   "name": "python",
   "nbconvert_exporter": "python",
   "pygments_lexer": "ipython3",
   "version": "3.7.6-final"
  }
 },
 "nbformat": 4,
 "nbformat_minor": 4
}